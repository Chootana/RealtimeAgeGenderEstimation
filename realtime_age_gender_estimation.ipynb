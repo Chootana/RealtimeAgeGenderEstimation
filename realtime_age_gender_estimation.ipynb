{
  "nbformat": 4,
  "nbformat_minor": 0,
  "metadata": {
    "colab": {
      "name": "realtime_age_gender_estimation.ipynb",
      "provenance": [],
      "toc_visible": true,
      "include_colab_link": true
    },
    "kernelspec": {
      "name": "python3",
      "display_name": "Python 3"
    },
    "accelerator": "GPU"
  },
  "cells": [
    {
      "cell_type": "markdown",
      "metadata": {
        "id": "view-in-github",
        "colab_type": "text"
      },
      "source": [
        "<a href=\"https://colab.research.google.com/github/Chootana/RealtimeAgeGenderEstimation/blob/master/realtime_age_gender_estimation.ipynb\" target=\"_parent\"><img src=\"https://colab.research.google.com/assets/colab-badge.svg\" alt=\"Open In Colab\"/></a>"
      ]
    },
    {
      "cell_type": "markdown",
      "metadata": {
        "id": "33-fh8arUBvZ",
        "colab_type": "text"
      },
      "source": [
        "# setting"
      ]
    },
    {
      "cell_type": "code",
      "metadata": {
        "id": "3-sEYmlwUBvi",
        "colab_type": "code",
        "colab": {
          "base_uri": "https://localhost:8080/",
          "height": 122
        },
        "outputId": "51ca1714-cd0c-4601-b1a7-4ff8e759fbb6"
      },
      "source": [
        "from google.colab import drive\n",
        "drive.mount('/content/gdrive')\n"
      ],
      "execution_count": 1,
      "outputs": [
        {
          "output_type": "stream",
          "text": [
            "Go to this URL in a browser: https://accounts.google.com/o/oauth2/auth?client_id=947318989803-6bn6qk8qdgf4n4g3pfee6491hc0brc4i.apps.googleusercontent.com&redirect_uri=urn%3aietf%3awg%3aoauth%3a2.0%3aoob&response_type=code&scope=email%20https%3a%2f%2fwww.googleapis.com%2fauth%2fdocs.test%20https%3a%2f%2fwww.googleapis.com%2fauth%2fdrive%20https%3a%2f%2fwww.googleapis.com%2fauth%2fdrive.photos.readonly%20https%3a%2f%2fwww.googleapis.com%2fauth%2fpeopleapi.readonly\n",
            "\n",
            "Enter your authorization code:\n",
            "··········\n",
            "Mounted at /content/gdrive\n"
          ],
          "name": "stdout"
        }
      ]
    },
    {
      "cell_type": "code",
      "metadata": {
        "id": "7Bxb1JvlUFIX",
        "colab_type": "code",
        "colab": {}
      },
      "source": [
        "# 解凍はドライブ外のColab上のディレクトリ(/content/)以下に展開すること\n",
        "import os \n",
        "os.chdir('/content/')\n",
        "!unzip  '/content/gdrive/My Drive/megaage_asian.zip'"
      ],
      "execution_count": 0,
      "outputs": []
    },
    {
      "cell_type": "code",
      "metadata": {
        "id": "D-mRrF5NUNlG",
        "colab_type": "code",
        "colab": {
          "base_uri": "https://localhost:8080/",
          "height": 34
        },
        "outputId": "7a6bc37e-977f-4d9f-c6ef-cfdbd496088c"
      },
      "source": [
        "# srcディレクトリへ移動\n",
        "import os \n",
        "os.chdir('/content/gdrive/My Drive/RealtimeAgeGenderEstimation/src')\n",
        "!ls"
      ],
      "execution_count": 6,
      "outputs": [
        {
          "output_type": "stream",
          "text": [
            "config.py  mega_age_asian_datasets.py  ssr_net.py  train_SSR-Net.py\n"
          ],
          "name": "stdout"
        }
      ]
    },
    {
      "cell_type": "code",
      "metadata": {
        "id": "iHVBFNU2KT5N",
        "colab_type": "code",
        "colab": {
          "base_uri": "https://localhost:8080/",
          "height": 144
        },
        "outputId": "af4ba7cc-3d4e-4039-b168-cddb31a5e595"
      },
      "source": [
        "# arg\n",
        "data_base_path = '/content/megaage_asian'\n",
        "batch_size = 50\n",
        "input_size = 64\n",
        "num_epochs = 10\n",
        "learning_rate = 0.0015\n",
        "weight_decay = 1e-4\n",
        "step_size = 30\n",
        "gamma = 0.1\n",
        "augmented = False\n",
        "load_pretrained = False\n",
        "\n",
        "!python train_SSR-Net.py --data_base_path $data_base_path --batch_size $batch_size --input_size $input_size --num_epochs $num_epochs --learning_rate $learning_rate --weight_decay $weight_decay --step_size $step_size --gamma $gamma --augmented $augmented --load_pretrained $load_pretrained "
      ],
      "execution_count": 0,
      "outputs": [
        {
          "output_type": "stream",
          "text": [
            "Epoch 0/10\n",
            "----------\n",
            "mode: test\n",
            "test Loss: 0.0788 CA_3: 0.1612, CA_5: 0.2096\n",
            "Complete in 0m 40s\n",
            "mode: train\n"
          ],
          "name": "stdout"
        }
      ]
    }
  ]
}